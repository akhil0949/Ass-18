{
 "cells": [
  {
   "cell_type": "code",
   "execution_count": null,
   "metadata": {},
   "outputs": [],
   "source": [
    "1. Write a Python program to Extract Unique values dictionary values?\n",
    "Ans)\n",
    "my_dict = {'hi' : [5,3,8, 0],\n",
    "   'there' : [22, 51, 63, 77],\n",
    "   'how' : [7, 0, 22],\n",
    "   'are' : [12, 11, 45],\n",
    "   'you' : [56, 31, 89, 90]}\n",
    "\n",
    "print(\"The dictionary is : \")\n",
    "print(my_dict)\n",
    "\n",
    "my_result = list(sorted({elem for val in my_dict.values() for elem in val}))\n",
    "\n",
    "print(\"The unique values are : \")\n",
    "print(my_result)"
   ]
  },
  {
   "cell_type": "code",
   "execution_count": null,
   "metadata": {},
   "outputs": [],
   "source": [
    "2. Write a Python program to find the sum of all items in a dictionary?\n",
    "Ans)\n",
    "def Sum(dic):\n",
    "    sum=0\n",
    "    for i in dic.values():\n",
    "        sum=sum+i\n",
    "    return sum\n",
    "\n",
    "dic={ 'x':300, 'y':145, 'z':550 }\n",
    "print(\"Dictionary: \", dic)\n",
    "print(\"sum: \",Sum(dic))"
   ]
  },
  {
   "cell_type": "code",
   "execution_count": null,
   "metadata": {},
   "outputs": [],
   "source": [
    "3. Write a Python program to Merging two Dictionaries?\n",
    "Ans)\n",
    "dic={ 'x':300, 'y':145, 'z':550 }\n",
    "dic1={ 'p':455, 'q':223, 'r':300, 's':908 }\n",
    "dic.update(dic1)"
   ]
  },
  {
   "cell_type": "code",
   "execution_count": null,
   "metadata": {},
   "outputs": [],
   "source": [
    "4. Write a Python program to convert key-values list to flat dictionary?\n",
    "Ans)\n",
    "dic1= { \"day\": [1, 2, 3], \"name\": ['Mon', 'Tues', 'Wed' ] }\n",
    "print(\"Original dictionary: \",dic1)\n",
    "dic2= dict(zip(dic1[\"day\"], dic1[\"name\"]))\n",
    "print(\"FLATTENED DICTIONARY: \", dic2)"
   ]
  },
  {
   "cell_type": "code",
   "execution_count": null,
   "metadata": {},
   "outputs": [],
   "source": [
    "5. Write a Python program to insertion at the beginning in OrderedDict?\n",
    "Ans)\n",
    "from collections import OrderedDict\n",
    "iniordered_dict = OrderedDict([('akshat', '1'), ('nikhil', '2')])\n",
    "iniordered_dict.update({'manjeet':'3'})\n",
    "iniordered_dict.move_to_end('manjeet', last = False)\n",
    "print (\"Resultant Dictionary : \"+str(iniordered_dict))"
   ]
  },
  {
   "cell_type": "code",
   "execution_count": null,
   "metadata": {},
   "outputs": [],
   "source": [
    "6. Write a Python program to check order of character in string using OrderedDict()?\n",
    "Ans)\n",
    "from collections import OrderedDict \n",
    "def checkOrder(string, pattern): \n",
    "    dic = OrderedDict.fromkeys(string) \n",
    "    ptr = 0\n",
    "    for key,value in dic.items(): \n",
    "        if (key == pattern[ptr]): \n",
    "            ptr = ptr + 1\n",
    "        if (ptr == (len(pattern))): \n",
    "            return 'True'\n",
    "    return 'False'\n",
    "\n",
    "string = 'Study tonight'\n",
    "pattern = 'stu'\n",
    "print (checkOrder(string,pattern))\n",
    "\n",
    "string2= 'Welcome'\n",
    "pattern2= 'cm'\n",
    "print (checkOrder(string2,pattern2)) "
   ]
  },
  {
   "cell_type": "code",
   "execution_count": null,
   "metadata": {},
   "outputs": [],
   "source": [
    "7. Write a Python program to sort Python Dictionaries by Key or Value?\n",
    "Ans)\n",
    "key_value={}\n",
    "\n",
    "key_value[5] = 10      \n",
    "key_value[3] = 8\n",
    "key_value[6] = 77\n",
    "key_value[4] = 23\n",
    "key_value[2] = 9     \n",
    "key_value[1] = 43\n",
    " \n",
    "print(\"sorting on the basis of keys\")\n",
    "\n",
    "for i in sorted(key_value) :\n",
    "    print ((i, key_value[i]), end =\" \")"
   ]
  }
 ],
 "metadata": {
  "kernelspec": {
   "display_name": "Python 3",
   "language": "python",
   "name": "python3"
  },
  "language_info": {
   "codemirror_mode": {
    "name": "ipython",
    "version": 3
   },
   "file_extension": ".py",
   "mimetype": "text/x-python",
   "name": "python",
   "nbconvert_exporter": "python",
   "pygments_lexer": "ipython3",
   "version": "3.6.13"
  }
 },
 "nbformat": 4,
 "nbformat_minor": 2
}
